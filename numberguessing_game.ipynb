{
  "nbformat": 4,
  "nbformat_minor": 0,
  "metadata": {
    "colab": {
      "provenance": [],
      "authorship_tag": "ABX9TyO21M6sqIvaULKQpY8NNux3",
      "include_colab_link": true
    },
    "kernelspec": {
      "name": "python3",
      "display_name": "Python 3"
    },
    "language_info": {
      "name": "python"
    }
  },
  "cells": [
    {
      "cell_type": "markdown",
      "metadata": {
        "id": "view-in-github",
        "colab_type": "text"
      },
      "source": [
        "<a href=\"https://colab.research.google.com/github/Shamsass/number-guessing-game-/blob/main/numberguessing_game.ipynb\" target=\"_parent\"><img src=\"https://colab.research.google.com/assets/colab-badge.svg\" alt=\"Open In Colab\"/></a>"
      ]
    },
    {
      "cell_type": "code",
      "execution_count": null,
      "metadata": {
        "id": "egVIxYj_fE1b",
        "colab": {
          "base_uri": "https://localhost:8080/"
        },
        "outputId": "1da315ab-5939-4a1e-fdd4-05d5bc5d3d31"
      },
      "outputs": [
        {
          "output_type": "stream",
          "name": "stdout",
          "text": [
            "Think of a secret number between 1 to 10!\n"
          ]
        }
      ],
      "source": [
        "# numbers=[1,2,3,4,5,6,7,8,9]\n",
        "# print(numbers)\n",
        "# for i in numbers\n",
        "# print(i)\n",
        "\n",
        "# for i in range(0,10,3):\n",
        "#   print(i)\n",
        "\n",
        "# #\n",
        "# import random\n",
        "# print(\"think any secret number between 1 to 10!\")\n",
        "# user_input= int(input(\"Enter the secret number(computer guess the number):\"))\n",
        "\n",
        "# computer_num =  random.randint(1,10)\n",
        "# print(f\"first guess of computer:{computer_num}\")\n",
        "\n",
        "# while True:\n",
        "#  feedback= input(\"is this guess right?(greater/lesser/right):\")\n",
        "\n",
        "# if feedback == \"right\":\n",
        "#    print(\"yes! computer has guess correctly\")\n",
        "#    break;\n",
        "# elif feedback == \"lesser\":\n",
        "#     print(\"Too low..\")\n",
        "# elif feedback == \"greater\":\n",
        "#     print(\"Too high..\")\n",
        "# else:\n",
        "#   print(\"wrong input! only 'greater','lesser',or 'right'.\")\n",
        "# continue;\n",
        "# computer_num = random.randint(1,10)\n",
        "# print(f\"new guess of computrer: {computer_num}\")\n",
        "import random\n",
        "\n",
        "print(\"Think of a secret number between 1 to 10!\")\n",
        "user_input = int(input(\"Enter the secret number (computer will guess the number): \"))\n",
        "\n",
        "computer_num = random.randint(1, 10)\n",
        "print(f\"First guess of the computer: {computer_num}\")\n",
        "\n",
        "while True:\n",
        "    feedback = input(\"Is this guess right? (greater/lesser/right): \").strip().lower()\n",
        "\n",
        "    if feedback == \"right\":\n",
        "        print(\"Yes! The computer has guessed correctly.\")\n",
        "        break\n",
        "    elif feedback == \"lesser\":\n",
        "        print(\"Too low..\")\n",
        "    elif feedback == \"greater\":\n",
        "        print(\"Too high..\")\n",
        "    else:\n",
        "        print(\"Wrong input! Only 'greater', 'lesser', or 'right' are allowed.\")\n",
        "        continue  # This helps restart the loop if input is invalid\n",
        "\n",
        "    computer_num = random.randint(1, 10)\n",
        "    print(f\"New guess of the computer: {computer_num}\")\n"
      ]
    }
  ]
}